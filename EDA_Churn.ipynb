{
 "cells": [
  {
   "cell_type": "code",
   "execution_count": 3,
   "id": "99115974",
   "metadata": {},
   "outputs": [],
   "source": [
    "# EDA_Churn.ipynb\n",
    "# Import des librairies\n",
    "import pandas as pd\n",
    "import numpy as np\n",
    "import matplotlib.pyplot as plt\n",
    "import seaborn as sns\n",
    "\n",
    "pd.set_option('display.max_columns', None)\n",
    "pd.set_option('display.max_rows', 100)\n",
    "\n"
   ]
  },
  {
   "cell_type": "code",
   "execution_count": null,
   "id": "b07da270",
   "metadata": {},
   "outputs": [],
   "source": [
    "# Charger le dataset\n",
    "df = pd.read_csv('Data.csv')\n",
    "df.head()"
   ]
  },
  {
   "cell_type": "code",
   "execution_count": 5,
   "id": "6f6f7cc9",
   "metadata": {},
   "outputs": [
    {
     "name": "stdout",
     "output_type": "stream",
     "text": [
      "Dimensions : (7043, 21)\n",
      "\n",
      "Types des colonnes :\n",
      " customerID           object\n",
      "gender               object\n",
      "SeniorCitizen         int64\n",
      "Partner              object\n",
      "Dependents           object\n",
      "tenure                int64\n",
      "PhoneService         object\n",
      "MultipleLines        object\n",
      "InternetService      object\n",
      "OnlineSecurity       object\n",
      "OnlineBackup         object\n",
      "DeviceProtection     object\n",
      "TechSupport          object\n",
      "StreamingTV          object\n",
      "StreamingMovies      object\n",
      "Contract             object\n",
      "PaperlessBilling     object\n",
      "PaymentMethod        object\n",
      "MonthlyCharges      float64\n",
      "TotalCharges         object\n",
      "Churn                object\n",
      "dtype: object\n",
      "\n",
      "Statistiques descriptives :\n",
      "        SeniorCitizen       tenure  MonthlyCharges\n",
      "count    7043.000000  7043.000000     7043.000000\n",
      "mean        0.162147    32.371149       64.761692\n",
      "std         0.368612    24.559481       30.090047\n",
      "min         0.000000     0.000000       18.250000\n",
      "25%         0.000000     9.000000       35.500000\n",
      "50%         0.000000    29.000000       70.350000\n",
      "75%         0.000000    55.000000       89.850000\n",
      "max         1.000000    72.000000      118.750000\n",
      "\n",
      "Valeurs manquantes par colonne :\n",
      " customerID          0\n",
      "gender              0\n",
      "SeniorCitizen       0\n",
      "Partner             0\n",
      "Dependents          0\n",
      "tenure              0\n",
      "PhoneService        0\n",
      "MultipleLines       0\n",
      "InternetService     0\n",
      "OnlineSecurity      0\n",
      "OnlineBackup        0\n",
      "DeviceProtection    0\n",
      "TechSupport         0\n",
      "StreamingTV         0\n",
      "StreamingMovies     0\n",
      "Contract            0\n",
      "PaperlessBilling    0\n",
      "PaymentMethod       0\n",
      "MonthlyCharges      0\n",
      "TotalCharges        0\n",
      "Churn               0\n",
      "dtype: int64\n"
     ]
    }
   ],
   "source": [
    "\n",
    "\n",
    "# Aperçu structure\n",
    "print(\"Dimensions :\", df.shape)\n",
    "print(\"\\nTypes des colonnes :\\n\", df.dtypes)\n",
    "print(\"\\nStatistiques descriptives :\\n\", df.describe())\n",
    "print(\"\\nValeurs manquantes par colonne :\\n\", df.isnull().sum())\n"
   ]
  },
  {
   "cell_type": "code",
   "execution_count": 6,
   "id": "4b34f62a",
   "metadata": {},
   "outputs": [
    {
     "data": {
      "image/png": "[encoded data removed]",
      "text/plain": [
       "<Figure size 640x480 with 1 Axes>"
      ]
     },
     "metadata": {},
     "output_type": "display_data"
    },
    {
     "name": "stdout",
     "output_type": "stream",
     "text": [
      "\n",
      "Pourcentage de chaque classe :\n",
      " Churn\n",
      "No     73.463013\n",
      "Yes    26.536987\n",
      "Name: proportion, dtype: float64\n"
     ]
    }
   ],
   "source": [
    "# Analyse de la target\n",
    "sns.countplot(x='Churn', data=df)\n",
    "plt.title(\"Répartition du churn\")\n",
    "plt.show()\n",
    "print(\"\\nPourcentage de chaque classe :\\n\", df['Churn'].value_counts(normalize=True)*100)\n"
   ]
  },
  {
   "cell_type": "code",
   "execution_count": null,
   "id": "8474bbfd",
   "metadata": {},
   "outputs": [],
   "source": [
    "\n",
    "# Features numériques (exclure la target Churn)\n",
    "numeric_features = [col for col in df.select_dtypes(include=['int64','float64']).columns if col != 'Churn']\n",
    "\n",
    "# Histogrammes des variables numériques\n",
    "df[numeric_features].hist(figsize=(12,10), bins=20)\n",
    "plt.suptitle(\"Histogrammes des variables numériques\")\n",
    "plt.show()\n",
    "\n",
    "# Boxplots pour détecter les outliers\n",
    "for col in numeric_features:\n",
    "    plt.figure(figsize=(6,4))\n",
    "    sns.boxplot(x='Churn', y=col, data=df)\n",
    "    plt.title(f\"{col} vs Churn\")\n",
    "    plt.show()\n"
   ]
  },
  {
   "cell_type": "code",
   "execution_count": null,
   "id": "d9b984a7",
   "metadata": {},
   "outputs": [],
   "source": [
    "# Features catégorielles\n",
    "categorical_features = df.select_dtypes(include=['object']).columns.tolist()\n",
    "\n",
    "for col in categorical_features:\n",
    "    plt.figure(figsize=(8,4))\n",
    "    sns.countplot(x=col, hue='Churn', data=df)\n",
    "    plt.title(f\"{col} vs Churn\")\n",
    "    plt.xticks(rotation=45)\n",
    "    plt.show()\n",
    "\n"
   ]
  },
  {
   "cell_type": "code",
   "execution_count": null,
   "id": "099c63ca",
   "metadata": {},
   "outputs": [],
   "source": [
    "\n",
    "# Corrélations\n",
    "plt.figure(figsize=(12,10))\n",
    "sns.heatmap(df.corr(), annot=True, fmt=\".2f\", cmap='coolwarm')\n",
    "plt.title(\"Heatmap des corrélations\")\n",
    "plt.show()\n"
   ]
  },
  {
   "cell_type": "code",
   "execution_count": null,
   "id": "c6180a62",
   "metadata": {},
   "outputs": [],
   "source": [
    "# Sélection des colonnes numériques uniquement\n",
    "numeric_features = df.select_dtypes(include=['int64', 'float64']).columns.tolist()\n",
    "\n",
    "# Heatmap de corrélations numériques\n",
    "plt.figure(figsize=(12,10))\n",
    "sns.heatmap(df[numeric_features].corr(), annot=True, fmt=\".2f\", cmap='coolwarm')\n",
    "plt.title(\"Heatmap des corrélations\")\n",
    "plt.show()\n",
    "\n",
    "# Corrélations avec la target\n",
    "if 'Churn' in numeric_features:\n",
    "    corr_target = df[numeric_features].corr()['Churn'].sort_values(ascending=False)\n",
    "    print(\"\\nCorrélations des variables numériques avec la target Churn :\\n\", corr_target)\n",
    "else:\n",
    "    print(\"Attention : la variable cible 'Churn' n'est pas numérique et ne peut pas être incluse dans la corrélation.\")\n"
   ]
  },
  {
   "cell_type": "code",
   "execution_count": null,
   "id": "7a21f2e2",
   "metadata": {},
   "outputs": [],
   "source": [
    "# Copier le dataframe pour ne pas toucher à l'original\n",
    "df_encoded = df.copy()\n",
    "\n",
    "# Encoder toutes les colonnes non numériques\n",
    "for col in df_encoded.select_dtypes(include=['object']).columns:\n",
    "    df_encoded[col] = df_encoded[col].astype('category').cat.codes\n",
    "\n",
    "# Maintenant toutes les colonnes sont numériques \n",
    "numeric_features = df_encoded.columns.tolist()\n",
    "\n",
    "# Heatmap complète\n",
    "plt.figure(figsize=(12,10))\n",
    "sns.heatmap(df_encoded[numeric_features].corr(), annot=True, fmt=\".2f\", cmap='coolwarm')\n",
    "plt.title(\"Heatmap des corrélations (avec variables encodées)\")\n",
    "plt.show()\n",
    "\n",
    "# Corrélations avec la target\n",
    "corr_target = df_encoded.corr()['Churn'].sort_values(ascending=False)\n",
    "print(\"\\nCorrélations des variables avec la target Churn :\\n\", corr_target)\n"
   ]
  }
 ],
 "metadata": {
  "kernelspec": {
   "display_name": "venv",
   "language": "python",
   "name": "python3"
  },
  "language_info": {
   "codemirror_mode": {
    "name": "ipython",
    "version": 3
   },
   "file_extension": ".py",
   "mimetype": "text/x-python",
   "name": "python",
   "nbconvert_exporter": "python",
   "pygments_lexer": "ipython3",
   "version": "3.13.7"
  }
 },
 "nbformat": 4,
 "nbformat_minor": 5
}
